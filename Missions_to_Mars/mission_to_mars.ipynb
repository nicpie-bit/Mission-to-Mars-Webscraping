{
 "cells": [
  {
   "cell_type": "code",
   "execution_count": 43,
   "metadata": {},
   "outputs": [],
   "source": [
    "#import dependencies\n",
    "from bs4 import BeautifulSoup as bs\n",
    "import requests\n",
    "import pymongo\n",
    "from splinter import Browser\n",
    "from webdriver_manager.chrome import ChromeDriverManager\n",
    "import pandas as pd"
   ]
  },
  {
   "cell_type": "code",
   "execution_count": 44,
   "metadata": {},
   "outputs": [
    {
     "name": "stderr",
     "output_type": "stream",
     "text": [
      "\n",
      "\n",
      "====== WebDriver manager ======\n",
      "Current google-chrome version is 81.0.4044\n",
      "Get LATEST driver version for 81.0.4044\n",
      "Driver [/Users/nicolebroussard/.wdm/drivers/chromedriver/mac64/81.0.4044.138/chromedriver] found in cache\n"
     ]
    }
   ],
   "source": [
    "# Setup splinter\n",
    "executable_path = {'executable_path': ChromeDriverManager().install()}\n",
    "browser = Browser('chrome', **executable_path, headless=False)"
   ]
  },
  {
   "cell_type": "markdown",
   "metadata": {},
   "source": [
    "NASA Mars News"
   ]
  },
  {
   "cell_type": "code",
   "execution_count": 53,
   "metadata": {},
   "outputs": [
    {
     "name": "stdout",
     "output_type": "stream",
     "text": [
      "<!DOCTYPE html>\n",
      "<html>\n",
      " <head>\n",
      "  <meta charset=\"utf-8\"/>\n",
      "  <meta content=\"width=device-width, initial-scale=1\" name=\"viewport\"/>\n",
      "  <link crossorigin=\"anonymous\" href=\"https://cdn.jsdelivr.net/npm/bootstrap@5.0.0-beta1/dist/css/bootstrap.min.css\" integrity=\"sha384-giJF6kkoqNQ00vy+HMDP7azOuL0xtbfIcaT9wjKHr8RbDVddVHyTfAAsrekwKmP1\" rel=\"stylesheet\"/>\n",
      "  <link href=\"css/font.css\" rel=\"stylesheet\" type=\"text/css\"/>\n",
      "  <link href=\"css/app.css\" rel=\"stylesheet\" type=\"text/css\"/>\n",
      "  <link crossorigin=\"anonymous\" href=\"https://pro.fontawesome.com/releases/v5.10.0/css/all.css\" integrity=\"sha384-AYmEC3Yw5cVb3ZcuHtOA93w35dYTsvhLPVnYs9eStHfGJvOvKxVfELGroGkvsg+p\" rel=\"stylesheet\">\n",
      "   <title>\n",
      "    News - Mars Exploration Program\n",
      "   </title>\n",
      "  </link>\n",
      " </head>\n",
      " <body>\n",
      "  <div class=\"col-md-12\">\n",
      "   <div class=\"row\">\n",
      "    <nav class=\"navbar navbar-expand-lg navbar-light fixed-top\">\n",
      "     <div class=\"container-fluid\">\n",
      "      <a class=\"navbar-brand\" href=\"#\">\n",
      "       <img src=\"image/nasa.png\" width=\"80\"/>\n",
      "       <span class=\"logo\">\n",
      "        MARS Planet Science\n",
      "       </span>\n",
      "       <span class=\"logo1\">\n",
      "        Exploration Program\n",
      "       </span>\n",
      "      </a>\n",
      "      <button aria-controls=\"navbarNav\" aria-expanded=\"false\" aria-label=\"Toggle navigation\" class=\"navbar-toggler\" data-bs-target=\"#navbarNav\" data-bs-toggle=\"collapse\" type=\"button\">\n",
      "       <span class=\"navbar-toggler-icon\">\n",
      "       </span>\n",
      "      </button>\n",
      "      <div class=\"collapse navbar-collapse justify-content-end\" id=\"navbarNav\">\n",
      "       <ul class=\"navbar-nav\">\n",
      "        <li class=\"nav-item\">\n",
      "         <a aria-current=\"page\" class=\"nav-link active\" href=\"#\">\n",
      "          The Red Planet\n",
      "         </a>\n",
      "        </li>\n",
      "        <li class=\"nav-item\">\n",
      "         <a class=\"nav-link\" href=\"#\">\n",
      "          The Program\n",
      "         </a>\n",
      "        </li>\n",
      "        <li class=\"nav-item\">\n",
      "         <a class=\"nav-link\" href=\"#\">\n",
      "          News &amp; Events\n",
      "         </a>\n",
      "        </li>\n",
      "        <li class=\"nav-item\">\n",
      "         <a class=\"nav-link\" href=\"#\">\n",
      "          Multimedia\n",
      "         </a>\n",
      "        </li>\n",
      "        <li class=\"nav-item\">\n",
      "         <a class=\"nav-link\" href=\"#\">\n",
      "          Missions\n",
      "         </a>\n",
      "        </li>\n",
      "        <li class=\"nav-item\">\n",
      "         <a class=\"nav-link\" href=\"#\">\n",
      "          More\n",
      "         </a>\n",
      "        </li>\n",
      "        <li class=\"nav-item nav_search\">\n",
      "         <a class=\"nav-link\" href=\"#\">\n",
      "         </a>\n",
      "        </li>\n",
      "       </ul>\n",
      "      </div>\n",
      "     </div>\n",
      "    </nav>\n",
      "    <section class=\"search\">\n",
      "     <div class=\"container\">\n",
      "      <h1>\n",
      "       News\n",
      "      </h1>\n",
      "      <div class=\"col-md-12 filter\">\n",
      "       <div class=\"row\">\n",
      "        <div class=\"col-md-3 search_binder\">\n",
      "         <input class=\"search_field\" name=\"search\" type=\"text\"/>\n",
      "         <input class=\"search_submit\" name=\"search\" type=\"text\"/>\n",
      "        </div>\n",
      "        <div class=\"col-md-3\">\n",
      "         <select aria-label=\"Default select example\" class=\"form-select\" id=\"year\">\n",
      "          <option selected=\"\">\n",
      "           Latest\n",
      "          </option>\n",
      "         </select>\n",
      "        </div>\n",
      "        <div class=\"col-md-3\">\n",
      "         <select aria-label=\"Default select example\" class=\"form-select\" id=\"cat\">\n",
      "          <option selected=\"\">\n",
      "           All Categories\n",
      "          </option>\n",
      "         </select>\n",
      "        </div>\n",
      "        <div class=\"col-md-3\">\n",
      "        </div>\n",
      "       </div>\n",
      "      </div>\n",
      "     </div>\n",
      "    </section>\n",
      "    <section class=\"image_and_description_container\">\n",
      "     <div class=\"container\" id=\"news\">\n",
      "     </div>\n",
      "     <hr class=\"container\" style=\"margin: 25px auto;width: 83%;\"/>\n",
      "     <button class=\"btn disable\" id=\"more\" onclick=\"populateContent()\">\n",
      "      More\n",
      "     </button>\n",
      "    </section>\n",
      "    <section class=\"last_news\">\n",
      "     <div class=\"container\">\n",
      "      <div class=\"row\">\n",
      "       <div class=\"col-12\">\n",
      "        <h2>\n",
      "         You Might Also Like\n",
      "        </h2>\n",
      "       </div>\n",
      "       <!--  <a class=\" prev\" href=\"#carouselExampleIndicators2\" role=\"button\" data-slide=\"prev\">\r\n",
      "                  <i class=\"fas fa-angle-left\"></i>\r\n",
      "                  </a>\r\n",
      "                  <a class=\" next\" href=\"#carouselExampleIndicators2\" role=\"button\" data-slide=\"next\">\r\n",
      "                  <i class=\"fas fa-angle-right\"></i>\r\n",
      "                  </a> -->\n",
      "       <div class=\"col-12\">\n",
      "        <div class=\"carousel slide\" data-ride=\"carousel\" id=\"carouselExampleIndicators2\">\n",
      "         <div class=\"carousel-inner\">\n",
      "          <div class=\"carousel-item active\">\n",
      "           <div class=\"row\">\n",
      "            <div class=\"col-md-4 mb-3\">\n",
      "             <div class=\"card\">\n",
      "              <img alt=\"100%x280\" class=\"img-fluid\" src=\"https://mars.nasa.gov/system/news_items/main_images/8716_PIA23499-16.jpg\"/>\n",
      "              <div class=\"card-body\">\n",
      "               <p class=\"card-text\">\n",
      "                NASA to Broadcast Mars 2020 Perseverance Launch, Prelaunch Activities\n",
      "               </p>\n",
      "              </div>\n",
      "             </div>\n",
      "            </div>\n",
      "            <div class=\"col-md-4 mb-3\">\n",
      "             <div class=\"card\">\n",
      "              <img alt=\"100%x280\" class=\"img-fluid\" src=\"https://mars.nasa.gov/system/news_items/main_images/8716_PIA23499-16.jpg\"/>\n",
      "              <div class=\"card-body\">\n",
      "               <p class=\"card-text\">\n",
      "                The Launch Is Approaching for NASA's Next Mars Rover, Perseverance\n",
      "               </p>\n",
      "              </div>\n",
      "             </div>\n",
      "            </div>\n",
      "            <div class=\"col-md-4 mb-3\">\n",
      "             <div class=\"card\">\n",
      "              <img alt=\"100%x280\" class=\"img-fluid\" src=\"https://mars.nasa.gov/system/news_items/main_images/8692_PIA23920-web.jpg\"/>\n",
      "              <div class=\"card-body\">\n",
      "               <p class=\"card-text\">\n",
      "                NASA to Hold Mars 2020 Perseverance Rover Launch Briefing\n",
      "               </p>\n",
      "              </div>\n",
      "             </div>\n",
      "            </div>\n",
      "           </div>\n",
      "          </div>\n",
      "          <div class=\"carousel-item\">\n",
      "           <div class=\"row\">\n",
      "            <div class=\"col-md-4 mb-3\">\n",
      "             <div class=\"card\">\n",
      "              <img alt=\"100%x280\" class=\"img-fluid\" src=\"https://images.unsplash.com/photo-1532771098148-525cefe10c23?ixlib=rb-0.3.5&amp;q=80&amp;fm=jpg&amp;crop=entropy&amp;cs=tinysrgb&amp;w=1080&amp;fit=max&amp;ixid=eyJhcHBfaWQiOjMyMDc0fQ&amp;s=3f317c1f7a16116dec454fbc267dd8e4\"/>\n",
      "              <div class=\"card-body\">\n",
      "               <p class=\"card-text\">\n",
      "                With supporting text below as a natural lead-in to additional content.\n",
      "               </p>\n",
      "              </div>\n",
      "             </div>\n",
      "            </div>\n",
      "            <div class=\"col-md-4 mb-3\">\n",
      "             <div class=\"card\">\n",
      "              <img alt=\"100%x280\" class=\"img-fluid\" src=\"https://images.unsplash.com/photo-1532715088550-62f09305f765?ixlib=rb-0.3.5&amp;q=80&amp;fm=jpg&amp;crop=entropy&amp;cs=tinysrgb&amp;w=1080&amp;fit=max&amp;ixid=eyJhcHBfaWQiOjMyMDc0fQ&amp;s=ebadb044b374504ef8e81bdec4d0e840\"/>\n",
      "              <div class=\"card-body\">\n",
      "               <p class=\"card-text\">\n",
      "                With supporting text below as a natural lead-in to additional content.\n",
      "               </p>\n",
      "              </div>\n",
      "             </div>\n",
      "            </div>\n",
      "            <div class=\"col-md-4 mb-3\">\n",
      "             <div class=\"card\">\n",
      "              <img alt=\"100%x280\" class=\"img-fluid\" src=\"https://images.unsplash.com/photo-1506197603052-3cc9c3a201bd?ixlib=rb-0.3.5&amp;q=80&amp;fm=jpg&amp;crop=entropy&amp;cs=tinysrgb&amp;w=1080&amp;fit=max&amp;ixid=eyJhcHBfaWQiOjMyMDc0fQ&amp;s=0754ab085804ae8a3b562548e6b4aa2e\"/>\n",
      "              <div class=\"card-body\">\n",
      "               <p class=\"card-text\">\n",
      "                With supporting text below as a natural lead-in to additional content.\n",
      "               </p>\n",
      "              </div>\n",
      "             </div>\n",
      "            </div>\n",
      "           </div>\n",
      "          </div>\n",
      "          <div class=\"carousel-item\">\n",
      "           <div class=\"row\">\n",
      "            <div class=\"col-md-4 mb-3\">\n",
      "             <div class=\"card\">\n",
      "              <img alt=\"100%x280\" class=\"img-fluid\" src=\"https://images.unsplash.com/photo-1507525428034-b723cf961d3e?ixlib=rb-0.3.5&amp;q=80&amp;fm=jpg&amp;crop=entropy&amp;cs=tinysrgb&amp;w=1080&amp;fit=max&amp;ixid=eyJhcHBfaWQiOjMyMDc0fQ&amp;s=ee8417f0ea2a50d53a12665820b54e23\"/>\n",
      "              <div class=\"card-body\">\n",
      "               <p class=\"card-text\">\n",
      "                With supporting text below as a natural lead-in to additional content.\n",
      "               </p>\n",
      "              </div>\n",
      "             </div>\n",
      "            </div>\n",
      "            <div class=\"col-md-4 mb-3\">\n",
      "             <div class=\"card\">\n",
      "              <img alt=\"100%x280\" class=\"img-fluid\" src=\"https://images.unsplash.com/photo-1532777946373-b6783242f211?ixlib=rb-0.3.5&amp;q=80&amp;fm=jpg&amp;crop=entropy&amp;cs=tinysrgb&amp;w=1080&amp;fit=max&amp;ixid=eyJhcHBfaWQiOjMyMDc0fQ&amp;s=8ac55cf3a68785643998730839663129\"/>\n",
      "              <div class=\"card-body\">\n",
      "               <p class=\"card-text\">\n",
      "                With supporting text below as a natural lead-in to additional content.\n",
      "               </p>\n",
      "              </div>\n",
      "             </div>\n",
      "            </div>\n",
      "            <div class=\"col-md-4 mb-3\">\n",
      "             <div class=\"card\">\n",
      "              <img alt=\"100%x280\" class=\"img-fluid\" src=\"https://images.unsplash.com/photo-1532763303805-529d595877c5?ixlib=rb-0.3.5&amp;q=80&amp;fm=jpg&amp;crop=entropy&amp;cs=tinysrgb&amp;w=1080&amp;fit=max&amp;ixid=eyJhcHBfaWQiOjMyMDc0fQ&amp;s=5ee4fd5d19b40f93eadb21871757eda6\"/>\n",
      "              <div class=\"card-body\">\n",
      "               <p class=\"card-text\">\n",
      "                With supporting text below as a natural lead-in to additional content.\n",
      "               </p>\n",
      "              </div>\n",
      "             </div>\n",
      "            </div>\n",
      "           </div>\n",
      "          </div>\n",
      "         </div>\n",
      "        </div>\n",
      "       </div>\n",
      "      </div>\n",
      "     </div>\n",
      "    </section>\n",
      "    <section class=\"footer\">\n",
      "     <div class=\"container\">\n",
      "      <div class=\"col-md-12\">\n",
      "       <div class=\"row\">\n",
      "        <div class=\"col-md-3\">\n",
      "         <h5>\n",
      "          The Red Planet\n",
      "         </h5>\n",
      "         <ul>\n",
      "          <li>\n",
      "           Dashboard\n",
      "          </li>\n",
      "          <li>\n",
      "           Science Goals\n",
      "          </li>\n",
      "          <li>\n",
      "           The Planet\n",
      "          </li>\n",
      "         </ul>\n",
      "        </div>\n",
      "        <div class=\"col-md-3\">\n",
      "         <h5>\n",
      "          The Program\n",
      "         </h5>\n",
      "         <ul>\n",
      "          <li>\n",
      "           Mission Statement\n",
      "          </li>\n",
      "          <li>\n",
      "           About the Program\n",
      "          </li>\n",
      "          <li>\n",
      "           Organization Why Mars?\n",
      "          </li>\n",
      "         </ul>\n",
      "        </div>\n",
      "        <div class=\"col-md-3\">\n",
      "         <h5>\n",
      "          Multimedia\n",
      "         </h5>\n",
      "         <ul>\n",
      "          <li>\n",
      "           Images\n",
      "          </li>\n",
      "          <li>\n",
      "           Videos\n",
      "          </li>\n",
      "          <li>\n",
      "           More Resources\n",
      "          </li>\n",
      "         </ul>\n",
      "        </div>\n",
      "        <div class=\"col-md-3\">\n",
      "         <h5>\n",
      "          Missions\n",
      "         </h5>\n",
      "         <ul>\n",
      "          <li>\n",
      "           Past\n",
      "          </li>\n",
      "          <li>\n",
      "           Present\n",
      "          </li>\n",
      "          <li>\n",
      "           Future\n",
      "          </li>\n",
      "         </ul>\n",
      "        </div>\n",
      "       </div>\n",
      "      </div>\n",
      "     </div>\n",
      "    </section>\n",
      "    <script src=\"https://code.jquery.com/jquery-1.12.4.min.js\" type=\"text/javascript\">\n",
      "    </script>\n",
      "    <script src=\"https://cdn.jsdelivr.net/npm/@popperjs/core@2.5.4/dist/umd/popper.min.js\">\n",
      "    </script>\n",
      "    <script src=\"https://cdn.jsdelivr.net/npm/bootstrap@5.0.0-beta1/dist/js/bootstrap.min.js\">\n",
      "    </script>\n",
      "    <script src=\"js/app.js\">\n",
      "    </script>\n",
      "   </div>\n",
      "  </div>\n",
      " </body>\n",
      "</html>\n"
     ]
    }
   ],
   "source": [
    "#Scrape Mars news site \n",
    "url  = 'https://redplanetscience.com'\n",
    "browser.visit(url)\n",
    "html = browser.html\n",
    "#response = requests.get(url)\n",
    "soup = BeautifulSoup(response.text, 'html.parser')\n",
    "print(soup.prettify())"
   ]
  },
  {
   "cell_type": "code",
   "execution_count": 51,
   "metadata": {},
   "outputs": [
    {
     "ename": "IndexError",
     "evalue": "list index out of range",
     "output_type": "error",
     "traceback": [
      "\u001b[0;31m---------------------------------------------------------------------------\u001b[0m",
      "\u001b[0;31mIndexError\u001b[0m                                Traceback (most recent call last)",
      "\u001b[0;32m<ipython-input-51-94850994854e>\u001b[0m in \u001b[0;36m<module>\u001b[0;34m\u001b[0m\n\u001b[1;32m      1\u001b[0m \u001b[0;31m#Retrieve the latest News Title and paragraph\u001b[0m\u001b[0;34m\u001b[0m\u001b[0;34m\u001b[0m\u001b[0;34m\u001b[0m\u001b[0m\n\u001b[0;32m----> 2\u001b[0;31m \u001b[0mnews_title\u001b[0m \u001b[0;34m=\u001b[0m \u001b[0msoup\u001b[0m\u001b[0;34m.\u001b[0m\u001b[0mfind_all\u001b[0m\u001b[0;34m(\u001b[0m\u001b[0;34m'div'\u001b[0m\u001b[0;34m,\u001b[0m \u001b[0mclass_\u001b[0m\u001b[0;34m=\u001b[0m\u001b[0;34m'content_title'\u001b[0m\u001b[0;34m)\u001b[0m\u001b[0;34m[\u001b[0m\u001b[0;36m0\u001b[0m\u001b[0;34m]\u001b[0m\u001b[0;34m.\u001b[0m\u001b[0mtext\u001b[0m\u001b[0;34m\u001b[0m\u001b[0;34m\u001b[0m\u001b[0m\n\u001b[0m\u001b[1;32m      3\u001b[0m \u001b[0mnews_p\u001b[0m \u001b[0;34m=\u001b[0m \u001b[0msoup\u001b[0m\u001b[0;34m.\u001b[0m\u001b[0mfind_all\u001b[0m\u001b[0;34m(\u001b[0m\u001b[0;34m'div'\u001b[0m\u001b[0;34m,\u001b[0m \u001b[0mclass_\u001b[0m\u001b[0;34m=\u001b[0m\u001b[0;34m'article_teaser_body'\u001b[0m\u001b[0;34m)\u001b[0m\u001b[0;34m[\u001b[0m\u001b[0;36m0\u001b[0m\u001b[0;34m]\u001b[0m\u001b[0;34m.\u001b[0m\u001b[0mtext\u001b[0m\u001b[0;34m\u001b[0m\u001b[0;34m\u001b[0m\u001b[0m\n\u001b[1;32m      4\u001b[0m \u001b[0mprint\u001b[0m\u001b[0;34m(\u001b[0m\u001b[0mnews_title\u001b[0m\u001b[0;34m)\u001b[0m\u001b[0;34m\u001b[0m\u001b[0;34m\u001b[0m\u001b[0m\n\u001b[1;32m      5\u001b[0m \u001b[0mprint\u001b[0m\u001b[0;34m(\u001b[0m\u001b[0;34m\"-----------------\"\u001b[0m\u001b[0;34m)\u001b[0m\u001b[0;34m\u001b[0m\u001b[0;34m\u001b[0m\u001b[0m\n",
      "\u001b[0;31mIndexError\u001b[0m: list index out of range"
     ]
    }
   ],
   "source": [
    "#Retrieve the latest News Title and paragraph\n",
    "news_title = soup.find_all('div', class_='content_title')[0].text\n",
    "news_p = soup.find_all('div', class_='article_teaser_body')[0].text\n",
    "print(news_title)\n",
    "print(\"-----------------\")\n",
    "print(news_p)"
   ]
  },
  {
   "cell_type": "markdown",
   "metadata": {},
   "source": [
    "JPL Mars Space Images - Featured Image"
   ]
  },
  {
   "cell_type": "code",
   "execution_count": 5,
   "metadata": {},
   "outputs": [],
   "source": [
    "#Scrape Mars Space Images\n",
    "jpl_url = 'https://spaceimages-mars.com'\n",
    "browser.visit(jpl_url)\n",
    "html = browser.html\n",
    "soup = BeautifulSoup(html, 'html.parser')\n",
    "#print(soup.prettify())"
   ]
  },
  {
   "cell_type": "code",
   "execution_count": 6,
   "metadata": {},
   "outputs": [
    {
     "data": {
      "text/plain": [
       "'https://spaceimages-mars.com/image/featured/mars1.jpg'"
      ]
     },
     "execution_count": 6,
     "metadata": {},
     "output_type": "execute_result"
    }
   ],
   "source": [
    "#Use splinter to navigate to image\n",
    "mars_img = soup.find('img', class_='headerimage fade-in').get('src')\n",
    "mars_img\n",
    "featured_img_url = jpl_url+'/'+mars_img\n",
    "featured_img_url"
   ]
  },
  {
   "cell_type": "markdown",
   "metadata": {},
   "source": [
    "Mars Facts"
   ]
  },
  {
   "cell_type": "code",
   "execution_count": 7,
   "metadata": {},
   "outputs": [
    {
     "data": {
      "text/plain": [
       "[                         0                1                2\n",
       " 0  Mars - Earth Comparison             Mars            Earth\n",
       " 1                Diameter:         6,779 km        12,742 km\n",
       " 2                    Mass:  6.39 × 10^23 kg  5.97 × 10^24 kg\n",
       " 3                   Moons:                2                1\n",
       " 4       Distance from Sun:   227,943,824 km   149,598,262 km\n",
       " 5          Length of Year:   687 Earth days      365.24 days\n",
       " 6             Temperature:     -87 to -5 °C      -88 to 58°C,\n",
       "                       0                              1\n",
       " 0  Equatorial Diameter:                       6,792 km\n",
       " 1       Polar Diameter:                       6,752 km\n",
       " 2                 Mass:  6.39 × 10^23 kg (0.11 Earths)\n",
       " 3                Moons:          2 ( Phobos & Deimos )\n",
       " 4       Orbit Distance:       227,943,824 km (1.38 AU)\n",
       " 5         Orbit Period:           687 days (1.9 years)\n",
       " 6  Surface Temperature:                   -87 to -5 °C\n",
       " 7         First Record:              2nd millennium BC\n",
       " 8          Recorded By:           Egyptian astronomers]"
      ]
     },
     "execution_count": 7,
     "metadata": {},
     "output_type": "execute_result"
    }
   ],
   "source": [
    "#Scrape Mars Fact table\n",
    "facts_url = 'https://galaxyfacts-mars.com'\n",
    "mars_facts_table = pd.read_html(facts_url)\n",
    "mars_facts_table"
   ]
  },
  {
   "cell_type": "code",
   "execution_count": 8,
   "metadata": {},
   "outputs": [
    {
     "data": {
      "text/plain": [
       "'<table border=\"1\" class=\"dataframe\">  <thead>    <tr style=\"text-align: right;\">      <th></th>      <th>Mars-Earth Comparison</th>      <th>Mars</th>      <th>Earth</th>    </tr>  </thead>  <tbody>    <tr>      <th>0</th>      <td>Mars - Earth Comparison</td>      <td>Mars</td>      <td>Earth</td>    </tr>    <tr>      <th>1</th>      <td>Diameter:</td>      <td>6,779 km</td>      <td>12,742 km</td>    </tr>    <tr>      <th>2</th>      <td>Mass:</td>      <td>6.39 × 10^23 kg</td>      <td>5.97 × 10^24 kg</td>    </tr>    <tr>      <th>3</th>      <td>Moons:</td>      <td>2</td>      <td>1</td>    </tr>    <tr>      <th>4</th>      <td>Distance from Sun:</td>      <td>227,943,824 km</td>      <td>149,598,262 km</td>    </tr>    <tr>      <th>5</th>      <td>Length of Year:</td>      <td>687 Earth days</td>      <td>365.24 days</td>    </tr>    <tr>      <th>6</th>      <td>Temperature:</td>      <td>-87 to -5 °C</td>      <td>-88 to 58°C</td>    </tr>  </tbody></table>'"
      ]
     },
     "execution_count": 8,
     "metadata": {},
     "output_type": "execute_result"
    }
   ],
   "source": [
    "#Turn data into html\n",
    "fact_df = mars_facts_table[0]\n",
    "fact_df.columns = ['Mars-Earth Comparison', 'Mars', 'Earth']\n",
    "html_table = fact_df.to_html()\n",
    "fact_html_table = html_table.replace('\\n', '')\n",
    "fact_html_table"
   ]
  },
  {
   "cell_type": "markdown",
   "metadata": {},
   "source": [
    "Mars Hemispheres"
   ]
  },
  {
   "cell_type": "code",
   "execution_count": 9,
   "metadata": {},
   "outputs": [],
   "source": [
    "#Obtain high resolution images for each of Mar's hemispheres\n",
    "general_url = 'https://marshemispheres.com'\n",
    "browser.visit(general_url)\n",
    "html = browser.html\n",
    "soup = BeautifulSoup(html, 'html.parser')\n",
    "#print(soup.prettify())"
   ]
  },
  {
   "cell_type": "code",
   "execution_count": 10,
   "metadata": {},
   "outputs": [
    {
     "name": "stdout",
     "output_type": "stream",
     "text": [
      "['https://marshemispheres.com/cerberus.html', 'https://marshemispheres.com/schiaparelli.html', 'https://marshemispheres.com/syrtis.html', 'https://marshemispheres.com/valles.html']\n"
     ]
    }
   ],
   "source": [
    "#Find href for each hemisphere\n",
    "items = soup.find_all('div', class_='item')\n",
    "urls = []\n",
    "\n",
    "for item in items:\n",
    "    url = item.find('a', class_='itemLink product-item')['href']\n",
    "    urls.append(general_url+'/'+url)\n",
    "print(urls)"
   ]
  },
  {
   "cell_type": "code",
   "execution_count": 13,
   "metadata": {},
   "outputs": [
    {
     "name": "stdout",
     "output_type": "stream",
     "text": [
      "[{'title': 'Cerberus Hemisphere Enhanced', 'img_url': 'https://marshemispheres.com/images/f5e372a36edfa389625da6d0cc25d905_cerberus_enhanced.tif_full.jpg'}, {'title': 'Schiaparelli Hemisphere Enhanced', 'img_url': 'https://marshemispheres.com/images/3778f7b43bbbc89d6e3cfabb3613ba93_schiaparelli_enhanced.tif_full.jpg'}, {'title': 'Syrtis Major Hemisphere Enhanced', 'img_url': 'https://marshemispheres.com/images/555e6403a6ddd7ba16ddb0e471cadcf7_syrtis_major_enhanced.tif_full.jpg'}, {'title': 'Valles Marineris Hemisphere Enhanced', 'img_url': 'https://marshemispheres.com/images/b3c7c6c9138f57b4756be9b9c43e3a48_valles_marineris_enhanced.tif_full.jpg'}]\n"
     ]
    }
   ],
   "source": [
    "titles = []\n",
    "img_urls = []\n",
    "hemisphere_image_urls = []\n",
    "\n",
    "for url in urls:\n",
    "    response = requests.get(url)\n",
    "    soup = BeautifulSoup(response.text, 'html.parser')\n",
    "    item_url = soup.find('img', class_='wide-image').get('src')\n",
    "    img_url = general_url+'/'+item_url\n",
    "    img_urls.append(img_url)\n",
    "\n",
    "    title = soup.find('h2', class_='title').text\n",
    "    titles.append(title)\n",
    "\n",
    "for i in range(len(titles)):\n",
    "    hemisphere_image_url = {\n",
    "            'title': titles[i], \n",
    "            'img_url': img_urls[i]\n",
    "        } \n",
    "    hemisphere_image_urls.append(hemisphere_image_url)\n",
    "    browser.back()\n",
    "    \n",
    "print(hemisphere_image_urls)"
   ]
  },
  {
   "cell_type": "code",
   "execution_count": 14,
   "metadata": {},
   "outputs": [],
   "source": [
    "browser.quit()"
   ]
  },
  {
   "cell_type": "code",
   "execution_count": null,
   "metadata": {},
   "outputs": [],
   "source": []
  }
 ],
 "metadata": {
  "kernelspec": {
   "display_name": "Python [conda env:PythonData] *",
   "language": "python",
   "name": "conda-env-PythonData-py"
  },
  "language_info": {
   "codemirror_mode": {
    "name": "ipython",
    "version": 3
   },
   "file_extension": ".py",
   "mimetype": "text/x-python",
   "name": "python",
   "nbconvert_exporter": "python",
   "pygments_lexer": "ipython3",
   "version": "3.6.10"
  }
 },
 "nbformat": 4,
 "nbformat_minor": 4
}
